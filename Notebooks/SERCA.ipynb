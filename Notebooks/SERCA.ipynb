{
 "cells": [
  {
   "cell_type": "markdown",
   "metadata": {},
   "source": [
    "# Biochemical Example - SERCA\n",
    "In this example we demonstrate biochemical bond graph construction on a larger system. This tutorial highlights how the Julia modelling ecosystem helps build and solve reaction networks efficiently.\n",
    "\n",
    "This tutorial has been adapted from https://github.com/mic-pan/BGT_BiochemicalNetworkTutorials/blob/master/4%20-%20Generating%20a%20model%20of%20SERCA.ipynb"
   ]
  },
  {
   "cell_type": "code",
   "execution_count": null,
   "metadata": {},
   "outputs": [],
   "source": [
    "# Since BondGraphs is not yet in the package manager, we will need to include it directly from Github\n",
    "# NOTE: You will need Julia >= 1.7\n",
    "using Pkg; Pkg.add(url=\"https://github.com/jedforrest/BondGraphs.jl\")\n",
    "using BondGraphs"
   ]
  },
  {
   "attachments": {
    "Tran_SERCA.png": {
     "image/png": "[encoded data removed]"
    }
   },
   "cell_type": "markdown",
   "metadata": {},
   "source": [
    "## SERCA Model\n",
    "We will model the SERCA reaction network as described in Tran et al. (2009) and Pan et al. (2018).\n",
    "\n",
    "![Tran_SERCA.png](attachment:Tran_SERCA.png)"
   ]
  },
  {
   "cell_type": "markdown",
   "metadata": {},
   "source": [
    "We can represent the above diagram as a reaction network using the existing modeling package `Catalyst.jl`"
   ]
  },
  {
   "cell_type": "code",
   "execution_count": null,
   "metadata": {},
   "outputs": [],
   "source": [
    "using Catalyst\n",
    "rn_serca = @reaction_network SERCA begin\n",
    "    (1, 1), P1 + MgATP <--> P2\n",
    "    (1, 1), P2 + H <--> P2a\n",
    "    (1, 1), P2 + 2Cai <--> P4\n",
    "    (1, 1), P4 <--> P5 + 2H\n",
    "    (1, 1), P5 <--> P6 + MgADP\n",
    "    (1, 1), P6 <--> P8 + 2Casr\n",
    "    (1, 1), P8 + 2H <--> P9\n",
    "    (1, 1), P9 <--> P10 + H\n",
    "    (1, 1), P10 <--> P1 + Pi\n",
    "end"
   ]
  },
  {
   "cell_type": "markdown",
   "metadata": {},
   "source": [
    "`BondGraphs.jl` can convert a reaction network into a bond graph automatically"
   ]
  },
  {
   "cell_type": "code",
   "execution_count": null,
   "metadata": {},
   "outputs": [],
   "source": [
    "chemostats = [\"MgATP\", \"MgADP\", \"Pi\", \"H\", \"Cai\", \"Casr\"] # chemical sources with constant concentration in the model\n",
    "bg_serca = BondGraph(rn_serca; chemostats)\n",
    "\n",
    "using Plots\n",
    "plot(bg_serca, size=(600,600), fontsize=10)"
   ]
  },
  {
   "cell_type": "markdown",
   "metadata": {},
   "source": [
    "The equations for the concentrations of the core species $P_i$ are automatically derived"
   ]
  },
  {
   "cell_type": "code",
   "execution_count": null,
   "metadata": {},
   "outputs": [],
   "source": [
    "constitutive_relations(bg_serca)"
   ]
  },
  {
   "cell_type": "markdown",
   "metadata": {},
   "source": [
    "Next we set the parameter values for the reaction rates $r$, the species affinities $K$, the chemostat concentrations $x_s$, and the initial concentrations for all $P_i$.\n",
    "\n",
    "In this simulation, we have calcium concentration increasing over time with $[\\ce{Ca^2+}] = 0.05 + 0.01t$"
   ]
  },
  {
   "cell_type": "code",
   "execution_count": null,
   "metadata": {},
   "outputs": [],
   "source": [
    "# Define reaction rates, affinities, chemostats, and initial conditions\n",
    "reaction_rates = [\n",
    "    :R1 => 0.00053004, \n",
    "    :R2 => 8326784.0537,\n",
    "    :R3 => 1567.7476,\n",
    "    :R4 => 1567.7476,\n",
    "    :R5 => 3063.4006,\n",
    "    :R6 => 130852.3839,\n",
    "    :R7 => 11612934.8748,\n",
    "    :R8 => 11612934.8748,\n",
    "    :R9 => 0.049926\n",
    "]\n",
    "\n",
    "species_affinities = [\n",
    "    :P1 => 5263.6085,\n",
    "    :P2 => 3803.6518,\n",
    "    :P2a => 3110.4445,\n",
    "    :P4 => 16520516.1239,\n",
    "    :P5 => 0.82914,\n",
    "    :P6 => 993148.433,\n",
    "    :P8 => 37.7379,\n",
    "    :P9 => 2230.2717,\n",
    "    :P10 => 410.6048,\n",
    "    :Cai => 1.9058,\n",
    "    :Casr => 31.764,\n",
    "    :MgATP => 244.3021,\n",
    "    :MgADP => 5.8126e-7,\n",
    "    :Pi => 0.014921,\n",
    "    :H => 1862.5406\n",
    "]\n",
    "\n",
    "vol_sr = 2.28\n",
    "chemostat_amounts = [\n",
    "    :Cai => t -> 0.0057,\n",
    "    :Casr => t -> vol_sr*(0.05 + 0.01t), # Ca2+ increases over time\n",
    "    :H => t -> 0.004028,\n",
    "    :MgADP => t -> 1.3794,\n",
    "    :MgATP => t -> 3.8,\n",
    "    :Pi => t -> 570\n",
    "]\n",
    "\n",
    "initial_conditions = [\n",
    "    :P1 => 0.000483061870385487,\n",
    "    :P2 => 0.0574915174273067,\n",
    "    :P2a => 0.527445119834607,\n",
    "    :P4 => 1.51818391164022e-09,\n",
    "    :P5 => 0.000521923287622898,\n",
    "    :P6 => 7.80721128535043e-05,\n",
    "    :P8 => 0.156693953834181,\n",
    "    :P9 => 0.149232225342376,\n",
    "    :P10 => 0.108044124948978\n",
    "]\n",
    "\n",
    "for (reaction, rate) in reaction_rates\n",
    "    getproperty(bg_serca, reaction).r = rate\n",
    "end\n",
    "for (species, affinity) in species_affinities\n",
    "    getproperty(bg_serca, species).K = affinity\n",
    "end\n",
    "for (chemostat, amount) in chemostat_amounts\n",
    "    getproperty(bg_serca, chemostat).xs = amount\n",
    "end\n",
    "for (species, ic) in initial_conditions\n",
    "    getproperty(bg_serca, species).q = ic\n",
    "end"
   ]
  },
  {
   "cell_type": "markdown",
   "metadata": {},
   "source": [
    "Finally, we numerically solve our system of equations.\n",
    "\n",
    "Note: because these equations are stiff, we are required to use a stiff solver such as Rosenbrock23."
   ]
  },
  {
   "cell_type": "code",
   "execution_count": null,
   "metadata": {},
   "outputs": [],
   "source": [
    "import DifferentialEquations: Rosenbrock23 # stiff solver\n",
    "\n",
    "tspan = (0., 200.)\n",
    "sol = simulate(bg_serca, tspan; solver=Rosenbrock23());"
   ]
  },
  {
   "cell_type": "code",
   "execution_count": null,
   "metadata": {},
   "outputs": [],
   "source": [
    "plot(sol, lw=2, legend=:right)"
   ]
  }
 ],
 "metadata": {
  "kernelspec": {
   "display_name": "Julia 1.8.5",
   "language": "julia",
   "name": "julia-1.8"
  },
  "language_info": {
   "file_extension": ".jl",
   "mimetype": "application/julia",
   "name": "julia",
   "version": "1.8.5"
  }
 },
 "nbformat": 4,
 "nbformat_minor": 4
}
